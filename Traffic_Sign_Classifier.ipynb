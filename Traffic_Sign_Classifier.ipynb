{
 "cells": [
  {
   "cell_type": "markdown",
   "metadata": {},
   "source": [
    "# Self-Driving Car Engineer Nanodegree\n",
    "\n",
    "## Deep Learning\n",
    "\n",
    "## Project: Build a Traffic Sign Recognition Classifier\n",
    "\n",
    "In this notebook, a template is provided for you to implement your functionality in stages, which is required to successfully complete this project. If additional code is required that cannot be included in the notebook, be sure that the Python code is successfully imported and included in your submission if necessary. \n",
    "\n",
    "> **Note**: Once you have completed all of the code implementations, you need to finalize your work by exporting the iPython Notebook as an HTML document. Before exporting the notebook to html, all of the code cells need to have been run so that reviewers can see the final implementation and output. You can then export the notebook by using the menu above and navigating to  \\n\",\n",
    "    \"**File -> Download as -> HTML (.html)**. Include the finished document along with this notebook as your submission. \n",
    "\n",
    "In addition to implementing code, there is a writeup to complete. The writeup should be completed in a separate file, which can be either a markdown file or a pdf document. There is a [write up template](https://github.com/udacity/CarND-Traffic-Sign-Classifier-Project/blob/master/writeup_template.md) that can be used to guide the writing process. Completing the code template and writeup template will cover all of the [rubric points](https://review.udacity.com/#!/rubrics/481/view) for this project.\n",
    "\n",
    "The [rubric](https://review.udacity.com/#!/rubrics/481/view) contains \"Stand Out Suggestions\" for enhancing the project beyond the minimum requirements. The stand out suggestions are optional. If you decide to pursue the \"stand out suggestions\", you can include the code in this Ipython notebook and also discuss the results in the writeup file.\n",
    "\n",
    "\n",
    ">**Note:** Code and Markdown cells can be executed using the **Shift + Enter** keyboard shortcut. In addition, Markdown cells can be edited by typically double-clicking the cell to enter edit mode."
   ]
  },
  {
   "cell_type": "markdown",
   "metadata": {},
   "source": [
    "---\n",
    "## Step 0: Load The Data"
   ]
  },
  {
   "cell_type": "code",
   "execution_count": 1,
   "metadata": {},
   "outputs": [],
   "source": [
    "# Load pickled data\n",
    "import pickle\n",
    "\n",
    "# Define data locations\n",
    "training_file = \"../data/train.p\"\n",
    "validation_file = \"../data/valid.p\"\n",
    "testing_file = \"../data/test.p\"\n",
    "\n",
    "# Open and load\n",
    "with open(training_file, mode='rb') as f:\n",
    "    train = pickle.load(f)\n",
    "with open(validation_file, mode='rb') as f:\n",
    "    valid = pickle.load(f)\n",
    "with open(testing_file, mode='rb') as f:\n",
    "    test = pickle.load(f)\n",
    "\n",
    "# Store the features and lables in the X and y arrays respectively\n",
    "X_train, y_train = train['features'], train['labels']\n",
    "X_valid, y_valid = valid['features'], valid['labels']\n",
    "X_test, y_test = test['features'], test['labels']"
   ]
  },
  {
   "cell_type": "markdown",
   "metadata": {},
   "source": [
    "---\n",
    "\n",
    "## Step 1: Dataset Summary & Exploration\n",
    "\n",
    "The pickled data is a dictionary with 4 key/value pairs:\n",
    "\n",
    "- `'features'` is a 4D array containing raw pixel data of the traffic sign images, (num examples, width, height, channels).\n",
    "- `'labels'` is a 1D array containing the label/class id of the traffic sign. The file `signnames.csv` contains id -> name mappings for each id.\n",
    "- `'sizes'` is a list containing tuples, (width, height) representing the original width and height the image.\n",
    "- `'coords'` is a list containing tuples, (x1, y1, x2, y2) representing coordinates of a bounding box around the sign in the image. **THESE COORDINATES ASSUME THE ORIGINAL IMAGE. THE PICKLED DATA CONTAINS RESIZED VERSIONS (32 by 32) OF THESE IMAGES**\n",
    "\n",
    "Complete the basic data summary below. Use python, numpy and/or pandas methods to calculate the data summary rather than hard coding the results. For example, the [pandas shape method](http://pandas.pydata.org/pandas-docs/stable/generated/pandas.DataFrame.shape.html) might be useful for calculating some of the summary results. "
   ]
  },
  {
   "cell_type": "markdown",
   "metadata": {},
   "source": [
    "### 1.1. Provide a Basic Summary of the Data Set Using Python, Numpy and/or Pandas"
   ]
  },
  {
   "cell_type": "code",
   "execution_count": 2,
   "metadata": {},
   "outputs": [
    {
     "name": "stdout",
     "output_type": "stream",
     "text": [
      "Number of training examples = 34799\n",
      "Number of validation examples = 4410\n",
      "Number of testing examples = 12630\n",
      "Image data shape = (32, 32, 3)\n",
      "Number of classes = 43\n"
     ]
    }
   ],
   "source": [
    "### Summary of the dataset\n",
    "\n",
    "# Get number of training examples\n",
    "n_train = len(X_train)\n",
    "\n",
    "# Get number of validation examples\n",
    "n_validation = len(X_valid)\n",
    "\n",
    "# Get number of testing examples.\n",
    "n_test = len(X_test)\n",
    "\n",
    "# Get the shape of an traffic sign image?\n",
    "image_shape = X_train[0].shape\n",
    "\n",
    "# Get the number of unique classes/labels there are in the dataset.\n",
    "n_classes = len(set(y_train))\n",
    "\n",
    "print(\"Number of training examples =\", n_train)\n",
    "print(\"Number of validation examples =\", n_validation)\n",
    "print(\"Number of testing examples =\", n_test)\n",
    "print(\"Image data shape =\", image_shape)\n",
    "print(\"Number of classes =\", n_classes)"
   ]
  },
  {
   "cell_type": "markdown",
   "metadata": {},
   "source": [
    "### 1.2 Include an exploratory visualization of the dataset"
   ]
  },
  {
   "cell_type": "markdown",
   "metadata": {},
   "source": [
    "Visualize the German Traffic Signs Dataset using the pickled file(s). This is open ended, suggestions include: plotting traffic sign images, plotting the count of each sign, etc. \n",
    "\n",
    "The [Matplotlib](http://matplotlib.org/) [examples](http://matplotlib.org/examples/index.html) and [gallery](http://matplotlib.org/gallery.html) pages are a great resource for doing visualizations in Python.\n",
    "\n",
    "**NOTE:** It's recommended you start with something simple first. If you wish to do more, come back to it after you've completed the rest of the sections. It can be interesting to look at the distribution of classes in the training, validation and test set. Is the distribution the same? Are there more examples of some classes than others?"
   ]
  },
  {
   "cell_type": "code",
   "execution_count": 6,
   "metadata": {},
   "outputs": [
    {
     "name": "stdout",
     "output_type": "stream",
     "text": [
      "Dimensions of the image: (32, 32, 3)\n",
      "Classification index of the image: 3\n"
     ]
    },
    {
     "data": {
      "text/plain": [
       "<matplotlib.image.AxesImage at 0x7f39ff88c400>"
      ]
     },
     "execution_count": 6,
     "metadata": {},
     "output_type": "execute_result"
    },
    {
     "data": {
      "image/png": "[encoded data removed]",
      "text/plain": [
       "<matplotlib.figure.Figure at 0x7f39ffc48240>"
      ]
     },
     "metadata": {
      "needs_background": "light"
     },
     "output_type": "display_data"
    },
    {
     "data": {
      "image/png": "[encoded data removed]",
      "text/plain": [
       "<matplotlib.figure.Figure at 0x7f39ff9c9b70>"
      ]
     },
     "metadata": {
      "needs_background": "light"
     },
     "output_type": "display_data"
    }
   ],
   "source": [
    "### Data visualization\n",
    "\n",
    "# import the libraries\n",
    "import matplotlib.pyplot as plt\n",
    "import random\n",
    "import numpy as np\n",
    "import cv2\n",
    "\n",
    "# Visualizations will be shown in the notebook.\n",
    "%matplotlib inline\n",
    "\n",
    "# Choose a random image from the training sample\n",
    "index = random.randint(0, len(X_train))\n",
    "image_orig = X_train[index].squeeze()\n",
    "gray_image = cv2.cvtColor(image_orig, cv2.COLOR_RGB2GRAY)\n",
    "\n",
    "# Print Image data\n",
    "print(\"Dimensions of the image: \" + str(image_orig.shape))\n",
    "print(\"Classification index of the image: \" + str(y_train[index]))\n",
    "\n",
    "## Plot Histogram of the image classification\n",
    "f1, (ax1, ax2) = plt.subplots(1, 2)\n",
    "ax1.set_title('Training Data')\n",
    "ax1.hist(y_train, bins = n_classes)\n",
    "ax2.set_title('Validation Data')\n",
    "ax2.hist(y_valid, bins = n_classes)\n",
    "\n",
    "# Plot the images\n",
    "f2, (ax1, ax2) = plt.subplots(1, 2)\n",
    "ax1.set_title('Orignal Image')\n",
    "ax1.imshow(image_orig)\n",
    "ax2.set_title('Grayscale')\n",
    "ax2.imshow(gray_image, cmap='gray')\n"
   ]
  },
  {
   "cell_type": "markdown",
   "metadata": {},
   "source": [
    "----\n",
    "\n",
    "## Step 2: Design and Test a Model Architecture\n",
    "\n",
    "Design and implement a deep learning model that learns to recognize traffic signs. Train and test your model on the [German Traffic Sign Dataset](http://benchmark.ini.rub.de/?section=gtsrb&subsection=dataset).\n",
    "\n",
    "The LeNet-5 implementation shown in the [classroom](https://classroom.udacity.com/nanodegrees/nd013/parts/fbf77062-5703-404e-b60c-95b78b2f3f9e/modules/6df7ae49-c61c-4bb2-a23e-6527e69209ec/lessons/601ae704-1035-4287-8b11-e2c2716217ad/concepts/d4aca031-508f-4e0b-b493-e7b706120f81) at the end of the CNN lesson is a solid starting point. You'll have to change the number of classes and possibly the preprocessing, but aside from that it's plug and play! \n",
    "\n",
    "With the LeNet-5 solution from the lecture, you should expect a validation set accuracy of about 0.89. To meet specifications, the validation set accuracy will need to be at least 0.93. It is possible to get an even higher accuracy, but 0.93 is the minimum for a successful project submission. \n",
    "\n",
    "There are various aspects to consider when thinking about this problem:\n",
    "\n",
    "- Neural network architecture (is the network over or underfitting?)\n",
    "- Play around preprocessing techniques (normalization, rgb to grayscale, etc)\n",
    "- Number of examples per label (some have more than others).\n",
    "- Generate fake data.\n",
    "\n",
    "Here is an example of a [published baseline model on this problem](http://yann.lecun.com/exdb/publis/pdf/sermanet-ijcnn-11.pdf). It's not required to be familiar with the approach used in the paper but, it's good practice to try to read papers like these."
   ]
  },
  {
   "cell_type": "markdown",
   "metadata": {},
   "source": [
    "### 2.1. Pre-process the Data Set (normalization, grayscale, etc.)"
   ]
  },
  {
   "cell_type": "markdown",
   "metadata": {},
   "source": [
    "Minimally, the image data should be normalized so that the data has mean zero and equal variance. For image data, `(pixel - 128)/ 128` is a quick way to approximately normalize the data and can be used in this project. \n",
    "\n",
    "Other pre-processing steps are optional. You can try different techniques to see if it improves performance. \n",
    "\n",
    "Use the code cell (or multiple code cells, if necessary) to implement the first step of your project."
   ]
  },
  {
   "cell_type": "code",
   "execution_count": 7,
   "metadata": {},
   "outputs": [
    {
     "name": "stdout",
     "output_type": "stream",
     "text": [
      "Shape of original training set: (34799, 32, 32, 3)\n",
      "Shape of original training set: (34799, 32, 32, 3)\n",
      "Shape of normalized data training set: (34799, 32, 32, 1)\n",
      "Shape of normalized image in training set: (32, 32, 1)\n"
     ]
    }
   ],
   "source": [
    "## Preporocessing of the images\n",
    "## Convert to Grayscale\n",
    "## Normalize the values\n",
    "\n",
    "print(\"Shape of original training set: \" + str(X_train.shape))\n",
    "\n",
    "def conv_grayscale(image):\n",
    "    \"\"\"\n",
    "    Convert the images passed to grayscale\n",
    "    Expands the grayscale array dimension to 32x32x1 \n",
    "    Return the grayscale image\n",
    "    \"\"\"\n",
    "    # Convert to grayscle\n",
    "    gs_image = cv2.cvtColor(image, cv2.COLOR_RGB2GRAY)\n",
    "    #print(gs_image.shape)\n",
    "    #gs_image = [gs_image,np.zeros([gs_image.shape[0],gs_image.shape[1]])]\n",
    "    gs_image = np.expand_dims(gs_image, axis=3)\n",
    "    #print(gs_image.shape)\n",
    "    return gs_image\n",
    "\n",
    "\n",
    "def norm_data(X_data_orig):\n",
    "    \"\"\"\n",
    "    Receive original image\n",
    "    Normalize the data\n",
    "    Return normalized data\n",
    "    \"\"\"\n",
    "    X_data_norm = np.zeros([X_data_orig.shape[0], X_data_orig.shape[1], \n",
    "                            X_data_orig.shape[2], 1])  \n",
    "    n_data = len(X_data_orig)\n",
    "    \n",
    "    for i in range(n_data):\n",
    "        image = X_data_orig[i]\n",
    "        \n",
    "        # Call function to convert to grayscale with correct dimensions\n",
    "        gs_image = conv_grayscale(image)\n",
    "       \n",
    "        # Normalize the image\n",
    "        norm_gs = np.zeros_like(gs_image)      \n",
    "        norm_gs = (np.int8(gs_image)-128)/128        \n",
    "        X_data_norm[i] = norm_gs   \n",
    "        \n",
    "    return X_data_norm\n",
    "\n",
    "# Call the function to normalize the datasets\n",
    "X_train_norm = norm_data(X_train)\n",
    "X_valid_norm = norm_data(X_valid)\n",
    "X_test_norm = norm_data(X_test)\n",
    "\n",
    "# Print the array shapes to verify\n",
    "print(\"Shape of original training set: \" + str(X_train.shape))\n",
    "print(\"Shape of normalized data training set: \" + str(X_train_norm.shape))\n",
    "print(\"Shape of normalized image in training set: \" + str(X_train_norm[0].shape))\n",
    "\n",
    "#print(X_train_norm[0])\n",
    "#print(X_train[0])\n"
   ]
  },
  {
   "cell_type": "markdown",
   "metadata": {},
   "source": [
    "### 2.2. Model Architecture"
   ]
  },
  {
   "cell_type": "markdown",
   "metadata": {},
   "source": [
    "#### 2.2.1 Model Architecture Hyperparameters"
   ]
  },
  {
   "cell_type": "code",
   "execution_count": 50,
   "metadata": {},
   "outputs": [],
   "source": [
    "# Import libraries\n",
    "import tensorflow as tf\n",
    "from tensorflow.contrib.layers import flatten\n",
    "\n",
    "# Set parameters\n",
    "EPOCHS = 50\n",
    "BATCH_SIZE = 64\n",
    "rate = 0.0005\n",
    "col_channels = 3 # 1: for grayscale and 3: for color images\n",
    "ker_size = 5\n",
    "num_depth_1 = 6\n",
    "num_depth_2 = 16\n",
    "num_depth_3 = 400\n",
    "num_depth_4 = 120\n",
    "dropout_train = 0.75\n",
    "# n_classes #"
   ]
  },
  {
   "cell_type": "markdown",
   "metadata": {},
   "source": [
    "#### 2.2.2 Define Model Architecture"
   ]
  },
  {
   "cell_type": "code",
   "execution_count": 51,
   "metadata": {},
   "outputs": [],
   "source": [
    "# Define the architecture\n",
    "\n",
    "def LeNet(x):\n",
    "    # Arguments used for tf.truncated_normal, randomly defines variables for the weights and biases for each layer\n",
    "    mu = 0.1      # Mean for weight intialization    \n",
    "    sigma = 0.1   # Standard deviation\n",
    "    \n",
    "    # Weights for each layer\n",
    "    weights = {\n",
    "    'l1': tf.Variable(tf.truncated_normal([ker_size, ker_size, col_channels, num_depth_1], mean = mu, stddev = sigma)),\n",
    "    'l2': tf.Variable(tf.truncated_normal([ker_size, ker_size, num_depth_1, num_depth_2], mean = mu, stddev = sigma)),\n",
    "    'l3': tf.Variable(tf.truncated_normal([ker_size*ker_size*num_depth_2, num_depth_3], mean = mu, stddev = sigma)),\n",
    "    'l4': tf.Variable(tf.truncated_normal([num_depth_3, num_depth_4], mean = mu, stddev = sigma)),\n",
    "    'l5': tf.Variable(tf.truncated_normal([num_depth_4, n_classes], mean = mu, stddev = sigma))}\n",
    "    \n",
    "    # Bias for each layer\n",
    "    biases = {\n",
    "    'l1': tf.Variable(tf.zeros([num_depth_1])),\n",
    "    'l2': tf.Variable(tf.zeros([num_depth_2])),\n",
    "    'l3': tf.Variable(tf.zeros([num_depth_3])),\n",
    "    'l4': tf.Variable(tf.zeros([num_depth_4])),\n",
    "    'l5': tf.Variable(tf.zeros([n_classes]))}\n",
    "    \n",
    "    # Layer 1: Convolutional. Input = 32x32x1. Output = 28x28x6.\n",
    "    strides = [1, 1, 1, 1]\n",
    "    l1 = tf.nn.conv2d(x, weights['l1'], strides=strides, padding='VALID')\n",
    "    l1 = tf.nn.bias_add(l1, biases['l1'])   \n",
    "    \n",
    "    # Relu Activation.\n",
    "    l1 = tf.nn.relu(l1)\n",
    "\n",
    "    # Maxpooling. Input = 28x28x6. Output = 14x14x6.\n",
    "    ksize = [1, 2, 2, 1]\n",
    "    strides = [1, 2, 2, 1]\n",
    "    l1 = tf.nn.max_pool(l1, ksize=ksize, strides=strides, padding='SAME')    \n",
    "    \n",
    "    # Layer 2: Convolutional. Output = 10x10x16.\n",
    "    strides = [1, 1, 1, 1]\n",
    "    l2 = tf.nn.conv2d(l1, weights['l2'], strides, padding='VALID')\n",
    "    l2 = tf.nn.bias_add(l2, biases['l2'])\n",
    "    \n",
    "    # Relu Activation.\n",
    "    l2 = tf.nn.relu(l2)\n",
    "    \n",
    "    # Maxpooling. Input = 10x10x16. Output = 5x5x16.\n",
    "    ksize = [1, 2, 2, 1]\n",
    "    strides = [1, 2, 2, 1]\n",
    "    l2 = tf.nn.max_pool(l2, ksize=ksize, strides=strides, padding='SAME')\n",
    "    \n",
    "    # Flatten. Input = 5x5x16. Output = 400.\n",
    "    l3 = tf.contrib.layers.flatten(l2)\n",
    "    \n",
    "    # Layer 3: Fully Connected. Input = 5x5x16. Output = 400.\n",
    "    l3 = tf.add(tf.matmul(l3, weights['l3']), biases['l3'])\n",
    "    \n",
    "    \n",
    "    # Relu Activation.\n",
    "    l3 = tf.nn.relu(l3)\n",
    "    \n",
    "    # Dropout\n",
    "    l3 = tf.nn.dropout(l3, keep_prob)\n",
    "    \n",
    "    # Layer 4: Fully Connected. Input = 400. Output = 120\n",
    "    l4 = tf.add(tf.matmul(l3, weights['l4']), biases['l4'])\n",
    "    \n",
    "    # Relu Activation.\n",
    "    l4 = tf.nn.relu(l4)\n",
    "    \n",
    "    # dropout\n",
    "    l4 = tf.nn.dropout(l4, keep_prob)\n",
    "    \n",
    "    # Layer 5: Fully Connected. Input = 120. Output = 10.\n",
    "    l5 = tf.add(tf.matmul(l4, weights['l5']), biases['l5'])\n",
    "    logits = l5\n",
    "    \n",
    "    return logits"
   ]
  },
  {
   "cell_type": "markdown",
   "metadata": {},
   "source": [
    "#### 2.2.3 Declare Tensorflow Variables"
   ]
  },
  {
   "cell_type": "code",
   "execution_count": 52,
   "metadata": {},
   "outputs": [],
   "source": [
    "# Set tf placeholders\n",
    "\n",
    "x = tf.placeholder(tf.float32, (None, 32, 32, col_channels))\n",
    "y = tf.placeholder(tf.int32, (None))\n",
    "one_hot_y = tf.one_hot(y, n_classes)\n",
    "\n",
    "keep_prob = tf.placeholder(tf.float32)"
   ]
  },
  {
   "cell_type": "markdown",
   "metadata": {},
   "source": [
    "### 2.3 Train, Validate and Test the Model"
   ]
  },
  {
   "cell_type": "markdown",
   "metadata": {},
   "source": [
    "A validation set can be used to assess how well the model is performing. A low accuracy on the training and validation\n",
    "sets imply underfitting. A high accuracy on the training set but low accuracy on the validation set implies overfitting."
   ]
  },
  {
   "cell_type": "markdown",
   "metadata": {},
   "source": [
    "#### 2.3.1 Define TF Functions"
   ]
  },
  {
   "cell_type": "code",
   "execution_count": 53,
   "metadata": {},
   "outputs": [],
   "source": [
    "## Define tf functions\n",
    "\n",
    "logits = LeNet(x)\n",
    "cross_entropy = tf.nn.softmax_cross_entropy_with_logits(labels=one_hot_y, logits=logits)\n",
    "loss_operation = tf.reduce_mean(cross_entropy)\n",
    "optimizer = tf.train.AdamOptimizer(learning_rate = rate)\n",
    "training_operation = optimizer.minimize(loss_operation)\n"
   ]
  },
  {
   "cell_type": "markdown",
   "metadata": {},
   "source": [
    "#### 2.3.2 Define Evaluation Function"
   ]
  },
  {
   "cell_type": "code",
   "execution_count": 54,
   "metadata": {},
   "outputs": [],
   "source": [
    "\n",
    "correct_prediction = tf.equal(tf.argmax(logits, 1), tf.argmax(one_hot_y, 1))\n",
    "accuracy_operation = tf.reduce_mean(tf.cast(correct_prediction, tf.float32))\n",
    "saver = tf.train.Saver()\n",
    "\n",
    "def evaluate(X_data, y_data):\n",
    "    \"\"\"\n",
    "    Get X and Y datasets\n",
    "    Evaluate accuracy and return\n",
    "    \"\"\"\n",
    "    num_examples = len(X_data)\n",
    "    total_accuracy = 0\n",
    "    sess = tf.get_default_session()\n",
    "    for offset in range(0, num_examples, BATCH_SIZE):\n",
    "        batch_x, batch_y = X_data[offset:offset+BATCH_SIZE], y_data[offset:offset+BATCH_SIZE]\n",
    "        accuracy = sess.run(accuracy_operation, feed_dict={x: batch_x, y: batch_y, keep_prob: 1.})\n",
    "        total_accuracy += (accuracy * len(batch_x))\n",
    "    return total_accuracy / num_examples\n"
   ]
  },
  {
   "cell_type": "markdown",
   "metadata": {},
   "source": [
    "#### 2.3.3 Model Training"
   ]
  },
  {
   "cell_type": "code",
   "execution_count": 55,
   "metadata": {},
   "outputs": [
    {
     "name": "stdout",
     "output_type": "stream",
     "text": [
      "Training...\n",
      "\n",
      "EPOCH 1 ...\n",
      "Validation Accuracy = 0.224\n",
      "Training Accuracy = 0.288\n",
      "\n",
      "EPOCH 2 ...\n",
      "Validation Accuracy = 0.432\n",
      "Training Accuracy = 0.523\n",
      "\n",
      "EPOCH 3 ...\n",
      "Validation Accuracy = 0.652\n",
      "Training Accuracy = 0.767\n",
      "\n",
      "EPOCH 4 ...\n",
      "Validation Accuracy = 0.771\n",
      "Training Accuracy = 0.865\n",
      "\n",
      "EPOCH 5 ...\n",
      "Validation Accuracy = 0.833\n",
      "Training Accuracy = 0.916\n",
      "\n",
      "EPOCH 6 ...\n",
      "Validation Accuracy = 0.857\n",
      "Training Accuracy = 0.934\n",
      "\n",
      "EPOCH 7 ...\n",
      "Validation Accuracy = 0.868\n",
      "Training Accuracy = 0.954\n",
      "\n",
      "EPOCH 8 ...\n",
      "Validation Accuracy = 0.881\n",
      "Training Accuracy = 0.959\n",
      "\n",
      "EPOCH 9 ...\n",
      "Validation Accuracy = 0.896\n",
      "Training Accuracy = 0.971\n",
      "\n",
      "EPOCH 10 ...\n",
      "Validation Accuracy = 0.903\n",
      "Training Accuracy = 0.976\n",
      "\n",
      "EPOCH 11 ...\n",
      "Validation Accuracy = 0.896\n",
      "Training Accuracy = 0.979\n",
      "\n",
      "EPOCH 12 ...\n",
      "Validation Accuracy = 0.911\n",
      "Training Accuracy = 0.983\n",
      "\n",
      "EPOCH 13 ...\n",
      "Validation Accuracy = 0.920\n",
      "Training Accuracy = 0.987\n",
      "\n",
      "EPOCH 14 ...\n",
      "Validation Accuracy = 0.919\n",
      "Training Accuracy = 0.989\n",
      "\n",
      "EPOCH 15 ...\n",
      "Validation Accuracy = 0.917\n",
      "Training Accuracy = 0.990\n",
      "\n",
      "EPOCH 16 ...\n",
      "Validation Accuracy = 0.920\n",
      "Training Accuracy = 0.992\n",
      "\n",
      "EPOCH 17 ...\n",
      "Validation Accuracy = 0.919\n",
      "Training Accuracy = 0.992\n",
      "\n",
      "EPOCH 18 ...\n",
      "Validation Accuracy = 0.917\n",
      "Training Accuracy = 0.985\n",
      "\n",
      "EPOCH 19 ...\n",
      "Validation Accuracy = 0.913\n",
      "Training Accuracy = 0.988\n",
      "\n",
      "EPOCH 20 ...\n",
      "Validation Accuracy = 0.917\n",
      "Training Accuracy = 0.988\n",
      "\n",
      "EPOCH 21 ...\n",
      "Validation Accuracy = 0.936\n",
      "Training Accuracy = 0.997\n",
      "\n",
      "EPOCH 22 ...\n",
      "Validation Accuracy = 0.932\n",
      "Training Accuracy = 0.996\n",
      "\n",
      "EPOCH 23 ...\n",
      "Validation Accuracy = 0.939\n",
      "Training Accuracy = 0.997\n",
      "\n",
      "EPOCH 24 ...\n",
      "Validation Accuracy = 0.921\n",
      "Training Accuracy = 0.993\n",
      "\n",
      "EPOCH 25 ...\n",
      "Validation Accuracy = 0.932\n",
      "Training Accuracy = 0.994\n",
      "\n",
      "EPOCH 26 ...\n",
      "Validation Accuracy = 0.939\n",
      "Training Accuracy = 0.998\n",
      "\n",
      "EPOCH 27 ...\n",
      "Validation Accuracy = 0.933\n",
      "Training Accuracy = 0.998\n",
      "\n",
      "EPOCH 28 ...\n",
      "Validation Accuracy = 0.930\n",
      "Training Accuracy = 0.996\n",
      "\n",
      "EPOCH 29 ...\n",
      "Validation Accuracy = 0.937\n",
      "Training Accuracy = 0.998\n",
      "\n",
      "EPOCH 30 ...\n",
      "Validation Accuracy = 0.934\n",
      "Training Accuracy = 0.998\n",
      "\n",
      "EPOCH 31 ...\n",
      "Validation Accuracy = 0.932\n",
      "Training Accuracy = 0.998\n",
      "\n",
      "EPOCH 32 ...\n",
      "Validation Accuracy = 0.943\n",
      "Training Accuracy = 0.999\n",
      "\n",
      "EPOCH 33 ...\n",
      "Validation Accuracy = 0.939\n",
      "Training Accuracy = 0.999\n",
      "\n",
      "EPOCH 34 ...\n",
      "Validation Accuracy = 0.945\n",
      "Training Accuracy = 1.000\n",
      "\n",
      "EPOCH 35 ...\n",
      "Validation Accuracy = 0.902\n",
      "Training Accuracy = 0.984\n",
      "\n",
      "EPOCH 36 ...\n",
      "Validation Accuracy = 0.942\n",
      "Training Accuracy = 0.999\n",
      "\n",
      "EPOCH 37 ...\n",
      "Validation Accuracy = 0.936\n",
      "Training Accuracy = 0.998\n",
      "\n",
      "EPOCH 38 ...\n",
      "Validation Accuracy = 0.933\n",
      "Training Accuracy = 0.999\n",
      "\n",
      "EPOCH 39 ...\n",
      "Validation Accuracy = 0.938\n",
      "Training Accuracy = 0.999\n",
      "\n",
      "EPOCH 40 ...\n",
      "Validation Accuracy = 0.944\n",
      "Training Accuracy = 0.999\n",
      "\n",
      "EPOCH 41 ...\n",
      "Validation Accuracy = 0.941\n",
      "Training Accuracy = 0.999\n",
      "\n",
      "EPOCH 42 ...\n",
      "Validation Accuracy = 0.949\n",
      "Training Accuracy = 0.999\n",
      "\n",
      "EPOCH 43 ...\n",
      "Validation Accuracy = 0.941\n",
      "Training Accuracy = 0.999\n",
      "\n",
      "EPOCH 44 ...\n",
      "Validation Accuracy = 0.930\n",
      "Training Accuracy = 0.998\n",
      "\n",
      "EPOCH 45 ...\n",
      "Validation Accuracy = 0.939\n",
      "Training Accuracy = 0.999\n",
      "\n",
      "EPOCH 46 ...\n",
      "Validation Accuracy = 0.929\n",
      "Training Accuracy = 0.999\n",
      "\n",
      "EPOCH 47 ...\n",
      "Validation Accuracy = 0.939\n",
      "Training Accuracy = 0.999\n",
      "\n",
      "EPOCH 48 ...\n",
      "Validation Accuracy = 0.941\n",
      "Training Accuracy = 0.999\n",
      "\n",
      "EPOCH 49 ...\n",
      "Validation Accuracy = 0.931\n",
      "Training Accuracy = 0.997\n",
      "\n",
      "EPOCH 50 ...\n",
      "Validation Accuracy = 0.942\n",
      "Training Accuracy = 0.999\n",
      "\n",
      "Model saved\n"
     ]
    }
   ],
   "source": [
    "# Train the model\n",
    "from sklearn.utils import shuffle\n",
    "\n",
    "# Initialize accuracy arrays\n",
    "valid_accuracy_trend = []\n",
    "train_accuracy_trend = []\n",
    "\n",
    "# Run the tf session and execute training operation\n",
    "with tf.Session() as sess:\n",
    "    sess.run(tf.global_variables_initializer())\n",
    "    num_examples = len(X_train)\n",
    "    \n",
    "    print(\"Training...\")\n",
    "    print()\n",
    "    for i in range(EPOCHS):\n",
    "        X_train_sess, y_train_sess = shuffle(X_train, y_train)\n",
    "        #X_train_sess, y_train_sess = shuffle(X_train_norm, y_train)    # Use for normalized dataset\n",
    "        for offset in range(0, num_examples, BATCH_SIZE):\n",
    "            end = offset + BATCH_SIZE\n",
    "            batch_x, batch_y = X_train_sess[offset:end], y_train_sess[offset:end]\n",
    "            sess.run(training_operation, feed_dict={x: batch_x, y: batch_y, keep_prob: dropout_train})\n",
    "            \n",
    "        validation_accuracy = evaluate(X_valid, y_valid)\n",
    "        #validation_accuracy = evaluate(X_valid_norm, y_valid)\n",
    "        valid_accuracy_trend.append(validation_accuracy)\n",
    "        train_accuracy = evaluate(X_train_sess, y_train_sess)\n",
    "        train_accuracy_trend.append(train_accuracy)\n",
    "        print(\"EPOCH {} ...\".format(i+1))\n",
    "        print(\"Validation Accuracy = {:.3f}\".format(validation_accuracy))\n",
    "        print(\"Training Accuracy = {:.3f}\".format(train_accuracy))   \n",
    "        print()\n",
    "    \n",
    "    # save session\n",
    "    saver.save(sess, './lenet')\n",
    "    print(\"Model saved\")\n",
    "    \n"
   ]
  },
  {
   "cell_type": "markdown",
   "metadata": {},
   "source": [
    "#### 2.3.4 Display Accuracy Data"
   ]
  },
  {
   "cell_type": "code",
   "execution_count": 56,
   "metadata": {
    "scrolled": false
   },
   "outputs": [
    {
     "name": "stdout",
     "output_type": "stream",
     "text": [
      "Maximum Training Accuracy: 1.000\n",
      "Maximum Validation Accuracy: 0.949\n"
     ]
    },
    {
     "data": {
      "image/png": "[encoded data removed]",
      "text/plain": [
       "<matplotlib.figure.Figure at 0x7f399956a588>"
      ]
     },
     "metadata": {
      "needs_background": "light"
     },
     "output_type": "display_data"
    }
   ],
   "source": [
    "## Print the model training data\n",
    "\n",
    "# Print the accuracy data\n",
    "print(\"Maximum Training Accuracy: {:.3f}\".format(max(train_accuracy_trend)))\n",
    "print(\"Maximum Validation Accuracy: {:.3f}\".format(max(valid_accuracy_trend)))\n",
    "\n",
    "# Plot accuracy chart\n",
    "fig, ax = plt.subplots()\n",
    "ax.plot(train_accuracy_trend, label='Training Set Accuracy')\n",
    "ax.plot(valid_accuracy_trend, label='Validation Set Accuracy')\n",
    "ax.plot(np.ones_like(train_accuracy_trend)*0.93)\n",
    "plt.xlabel('EPOCHS')\n",
    "plt.ylabel('% Accuracy')\n",
    "leg = plt.legend()"
   ]
  },
  {
   "cell_type": "markdown",
   "metadata": {},
   "source": [
    "### 2.4. Apply the Model To Test Data ###"
   ]
  },
  {
   "cell_type": "code",
   "execution_count": 57,
   "metadata": {
    "scrolled": true
   },
   "outputs": [
    {
     "name": "stdout",
     "output_type": "stream",
     "text": [
      "INFO:tensorflow:Restoring parameters from ./lenet\n",
      "Test Accuracy = 0.923\n"
     ]
    }
   ],
   "source": [
    "# Evaluate the model on test data\n",
    "\n",
    "# Run tf session and evaluate\n",
    "with tf.Session() as sess:\n",
    "    saver.restore(sess, tf.train.latest_checkpoint('.'))\n",
    "\n",
    "    test_accuracy = evaluate(X_test, y_test)\n",
    "    print(\"Test Accuracy = {:.3f}\".format(test_accuracy))"
   ]
  },
  {
   "cell_type": "markdown",
   "metadata": {},
   "source": [
    "---\n",
    "\n",
    "## Step 3: Test a Model on New Images\n",
    "\n",
    "To give yourself more insight into how your model is working, download at least five pictures of German traffic signs from the web and use your model to predict the traffic sign type.\n",
    "\n",
    "You may find `signnames.csv` useful as it contains mappings from the class id (integer) to the actual sign name."
   ]
  },
  {
   "cell_type": "markdown",
   "metadata": {},
   "source": [
    "### 3.1. Load and Output the Images"
   ]
  },
  {
   "cell_type": "markdown",
   "metadata": {},
   "source": [
    "#### 3.1.1 Resize the Images\n",
    "\n",
    "This is needed if the images are not the same size/ proportion as the test images; in this case 32x32"
   ]
  },
  {
   "cell_type": "code",
   "execution_count": 20,
   "metadata": {},
   "outputs": [],
   "source": [
    "## Resize the images and save them\n",
    "\n",
    "import os\n",
    "\n",
    "def resize_images():\n",
    "    \"\"\"\n",
    "    Reads images from input folder\n",
    "    Reshapes them to a defined dimension (32x32 here)\n",
    "    Writes the images to the output folder\n",
    "    \"\"\"\n",
    "    \n",
    "    # Define the input folder\n",
    "    in_folder = \"./new_images/original/\"\n",
    "    out_folder = \"./new_images/\"\n",
    "\n",
    "    files = os.listdir(in_folder)\n",
    "\n",
    "    for file in files:    \n",
    "\n",
    "        img = cv2.imread(in_folder + file)\n",
    "        print('Original Dimensions : ',img.shape)\n",
    "        dim = (32, 32)\n",
    "        # resize image\n",
    "        resized = cv2.resize(img, dim, interpolation = cv2.INTER_AREA)    \n",
    "        print('Resized Dimensions : ',resized.shape)\n",
    "        cv2.imwrite(out_folder+file, resized)\n",
    "    print(\"Images Resized\")\n",
    "\n",
    "# Comment out the function call after doing once \n",
    "#resize_images()\n"
   ]
  },
  {
   "cell_type": "markdown",
   "metadata": {},
   "source": [
    "#### 3.1.2 Load and Display Images\n"
   ]
  },
  {
   "cell_type": "code",
   "execution_count": 29,
   "metadata": {
    "scrolled": true
   },
   "outputs": [
    {
     "name": "stdout",
     "output_type": "stream",
     "text": [
      "./new_images/18_1.jpg\n",
      "./new_images/13_1.jpg\n",
      "./new_images/14_1.jpg\n",
      "./new_images/9_1.png\n",
      "./new_images/26_1.jpg\n",
      "./new_images/17_1.jpg\n",
      "./new_images/2_1.jpg\n",
      "./new_images/11_1.png\n",
      "./new_images/3_1.png\n",
      "./new_images/27_1.jpg\n"
     ]
    },
    {
     "data": {
      "image/png": "[encoded data removed]",
      "text/plain": [
       "<matplotlib.figure.Figure at 0x7f3998160c50>"
      ]
     },
     "metadata": {
      "needs_background": "light"
     },
     "output_type": "display_data"
    }
   ],
   "source": [
    "\n",
    "# import the image library\n",
    "import matplotlib.image as mpimg\n",
    "import cv2\n",
    "%matplotlib inline\n",
    "\n",
    "# Define folder where images are located\n",
    "in_folder = \"./new_images/\"\n",
    "files = os.listdir(in_folder)\n",
    "\n",
    "# Number of pictures\n",
    "num_pics = 10\n",
    "i = 0\n",
    "\n",
    "# Initialize list for images, and their y-encoding \n",
    "X_new_images = []\n",
    "y_all_images = np.array([18, 13, 14, 9, 26, \n",
    "                         17, 2, 11, 3, 27, 11]) \n",
    "y_new_images = y_all_images[:num_pics]\n",
    "\n",
    "# Loop through the files in the folder\n",
    "for file in files:\n",
    "    # Avoid non-image files\n",
    "    if (\"jpg\" in file) or (\"png\" in file):\n",
    "        i += 1\n",
    "        if i > num_pics:\n",
    "            break    \n",
    "        new_img = cv2.imread(in_folder + file)\n",
    "        print(in_folder + file)\n",
    "        new_img = cv2.cvtColor(new_img, cv2.COLOR_BGR2RGB)\n",
    "        X_new_images.append(new_img)\n",
    "    \n",
    "# Convert image list to np array\n",
    "X_new_images = np.array(X_new_images)\n",
    "\n",
    "# Plot the images\n",
    "fig=plt.figure(figsize=(12, 12))\n",
    "columns = 5\n",
    "rows = 4\n",
    "for i in range(1, num_pics+1):\n",
    "    img_print = X_new_images[i-1]\n",
    "    fig.add_subplot(rows, columns, i)\n",
    "    plt.imshow(img_print, cmap='gray')\n",
    "plt.show()\n"
   ]
  },
  {
   "cell_type": "markdown",
   "metadata": {},
   "source": [
    "### 3.2. Predict the Sign Type for Each Image"
   ]
  },
  {
   "cell_type": "code",
   "execution_count": 34,
   "metadata": {},
   "outputs": [
    {
     "name": "stdout",
     "output_type": "stream",
     "text": [
      "INFO:tensorflow:Restoring parameters from ./lenet\n",
      "Prediction:  [ 9 13 17  9 38 17  3 11  2  4]\n",
      "Actual    :  [18 13 14  9 26 17  2 11  3 27]\n"
     ]
    }
   ],
   "source": [
    "### Run the predictions here and use the model to output the prediction for each image.\n",
    "\n",
    "# Define tf function for prediction\n",
    "new_prediction = tf.argmax(logits, 1)\n",
    "\n",
    "# Normalize the images\n",
    "X_new_norm = norm_data(X_new_images)\n",
    "\n",
    "# Run the tf session and predict\n",
    "with tf.Session() as sess:\n",
    "    saver.restore(sess, tf.train.latest_checkpoint('.'))\n",
    "    new_output = sess.run(new_prediction, feed_dict={x: X_new_images, y: y_new_images, keep_prob: 1.})\n",
    "    print(\"Prediction: \", new_output)\n",
    "    print(\"Actual    : \", y_new_images)\n",
    "\n"
   ]
  },
  {
   "cell_type": "markdown",
   "metadata": {},
   "source": [
    "### 3.3. Analyze Performance"
   ]
  },
  {
   "cell_type": "code",
   "execution_count": 31,
   "metadata": {},
   "outputs": [
    {
     "name": "stdout",
     "output_type": "stream",
     "text": [
      "INFO:tensorflow:Restoring parameters from ./lenet\n",
      "Test Accuracy = 0.400\n"
     ]
    }
   ],
   "source": [
    "### Calculate the accuracy for the new images. \n",
    "\n",
    "# Run the tf session and evaluate\n",
    "with tf.Session() as sess:\n",
    "    saver.restore(sess, tf.train.latest_checkpoint('.'))\n",
    "    \n",
    "    new_image_accuracy = evaluate(X_new_images, y_new_images)\n",
    "    print(\"Test Accuracy = {:.3f}\".format(new_image_accuracy))\n",
    "    "
   ]
  },
  {
   "cell_type": "markdown",
   "metadata": {},
   "source": [
    "### 3.4. Output Top 5 Softmax Probabilities For Each Image Found on the Web"
   ]
  },
  {
   "cell_type": "markdown",
   "metadata": {},
   "source": [
    "For each of the new images, print out the model's softmax probabilities to show the **certainty** of the model's predictions (limit the output to the top 5 probabilities for each image). [`tf.nn.top_k`](https://www.tensorflow.org/versions/r0.12/api_docs/python/nn.html#top_k) could prove helpful here. \n",
    "\n",
    "The example below demonstrates how tf.nn.top_k can be used to find the top k predictions for each image.\n",
    "\n",
    "`tf.nn.top_k` will return the values and indices (class ids) of the top k predictions. So if k=3, for each sign, it'll return the 3 largest probabilities (out of a possible 43) and the correspoding class ids.\n",
    "\n",
    "Take this numpy array as an example. The values in the array represent predictions. The array contains softmax probabilities for five candidate images with six possible classes. `tf.nn.top_k` is used to choose the three classes with the highest probability:\n",
    "\n",
    "```\n",
    "# (5, 6) array\n",
    "a = np.array([[ 0.24879643,  0.07032244,  0.12641572,  0.34763842,  0.07893497,\n",
    "         0.12789202],\n",
    "       [ 0.28086119,  0.27569815,  0.08594638,  0.0178669 ,  0.18063401,\n",
    "         0.15899337],\n",
    "       [ 0.26076848,  0.23664738,  0.08020603,  0.07001922,  0.1134371 ,\n",
    "         0.23892179],\n",
    "       [ 0.11943333,  0.29198961,  0.02605103,  0.26234032,  0.1351348 ,\n",
    "         0.16505091],\n",
    "       [ 0.09561176,  0.34396535,  0.0643941 ,  0.16240774,  0.24206137,\n",
    "         0.09155967]])\n",
    "```\n",
    "\n",
    "Running it through `sess.run(tf.nn.top_k(tf.constant(a), k=3))` produces:\n",
    "\n",
    "```\n",
    "TopKV2(values=array([[ 0.34763842,  0.24879643,  0.12789202],\n",
    "       [ 0.28086119,  0.27569815,  0.18063401],\n",
    "       [ 0.26076848,  0.23892179,  0.23664738],\n",
    "       [ 0.29198961,  0.26234032,  0.16505091],\n",
    "       [ 0.34396535,  0.24206137,  0.16240774]]), indices=array([[3, 0, 5],\n",
    "       [0, 1, 4],\n",
    "       [0, 5, 1],\n",
    "       [1, 3, 5],\n",
    "       [1, 4, 3]], dtype=int32))\n",
    "```\n",
    "\n",
    "Looking just at the first row we get `[ 0.34763842,  0.24879643,  0.12789202]`, you can confirm these are the 3 largest probabilities in `a`. You'll also notice `[3, 0, 5]` are the corresponding indices."
   ]
  },
  {
   "cell_type": "code",
   "execution_count": 32,
   "metadata": {},
   "outputs": [
    {
     "name": "stdout",
     "output_type": "stream",
     "text": [
      "INFO:tensorflow:Restoring parameters from ./lenet\n",
      "TopKV2(values=array([[  7.83934951e-01,   2.05991596e-01,   1.00617483e-02],\n",
      "       [  1.00000000e+00,   1.19369869e-20,   8.05818827e-23],\n",
      "       [  9.98682320e-01,   1.11214083e-03,   9.03480031e-05],\n",
      "       [  1.00000000e+00,   9.60996515e-18,   1.34330496e-20],\n",
      "       [  9.97551501e-01,   1.34418067e-03,   1.10414182e-03],\n",
      "       [  1.00000000e+00,   1.06440373e-25,   2.53026196e-28],\n",
      "       [  9.93717670e-01,   5.19398460e-03,   7.93453481e-04],\n",
      "       [  1.00000000e+00,   1.95670265e-15,   1.26712427e-18],\n",
      "       [  8.57524574e-01,   1.42436892e-01,   3.85461535e-05],\n",
      "       [  8.36983085e-01,   1.62974298e-01,   1.90957708e-05]], dtype=float32), indices=array([[ 9, 12, 35],\n",
      "       [13, 34, 35],\n",
      "       [17,  9, 41],\n",
      "       [ 9, 41, 17],\n",
      "       [38, 29, 36],\n",
      "       [17, 32, 14],\n",
      "       [ 3,  1,  0],\n",
      "       [11, 30, 28],\n",
      "       [ 2,  3,  1],\n",
      "       [ 4,  1, 26]], dtype=int32))\n"
     ]
    }
   ],
   "source": [
    "### Print out the top five softmax probabilities for the predictions on the German traffic sign images found on the web. \n",
    "\n",
    "# Define tf function for calling softmax\n",
    "new_softmax = tf.nn.softmax(logits)\n",
    "\n",
    "# run tf session and execute softmax\n",
    "with tf.Session() as sess:\n",
    "   \n",
    "    saver.restore(sess, tf.train.latest_checkpoint('.'))\n",
    "        \n",
    "    new_softmax_vals = sess.run(new_softmax, feed_dict={x: X_new_images, y: y_new_images, keep_prob: 1.})\n",
    "    top_softmax_vals = sess.run(tf.nn.top_k(tf.constant(new_softmax_vals), k=3))\n",
    "    \n",
    "    # Print the softmax values\n",
    "    print(top_softmax_vals)\n",
    "\n"
   ]
  },
  {
   "cell_type": "markdown",
   "metadata": {},
   "source": [
    "### 3.5. Project Writeup\n",
    "\n",
    "The project writeup is included with the repository. It is named as 'writeup_P3_Traffic_Sign_Classifier'"
   ]
  },
  {
   "cell_type": "markdown",
   "metadata": {},
   "source": [
    "> **Note**: Once you have completed all of the code implementations and successfully answered each question above, you may finalize your work by exporting the iPython Notebook as an HTML document. You can do this by using the menu above and navigating to  \\n\",\n",
    "    \"**File -> Download as -> HTML (.html)**. Include the finished document along with this notebook as your submission."
   ]
  },
  {
   "cell_type": "markdown",
   "metadata": {},
   "source": [
    "---\n",
    "\n",
    "## Step 4 (Optional): Visualize the Neural Network's State with Test Images\n",
    "\n",
    " This Section is not required to complete but acts as an additional excersise for understaning the output of a neural network's weights. While neural networks can be a great learning device they are often referred to as a black box. We can understand what the weights of a neural network look like better by plotting their feature maps. After successfully training your neural network you can see what it's feature maps look like by plotting the output of the network's weight layers in response to a test stimuli image. From these plotted feature maps, it's possible to see what characteristics of an image the network finds interesting. For a sign, maybe the inner network feature maps react with high activation to the sign's boundary outline or to the contrast in the sign's painted symbol.\n",
    "\n",
    " Provided for you below is the function code that allows you to get the visualization output of any tensorflow weight layer you want. The inputs to the function should be a stimuli image, one used during training or a new one you provided, and then the tensorflow variable name that represents the layer's state during the training process, for instance if you wanted to see what the [LeNet lab's](https://classroom.udacity.com/nanodegrees/nd013/parts/fbf77062-5703-404e-b60c-95b78b2f3f9e/modules/6df7ae49-c61c-4bb2-a23e-6527e69209ec/lessons/601ae704-1035-4287-8b11-e2c2716217ad/concepts/d4aca031-508f-4e0b-b493-e7b706120f81) feature maps looked like for it's second convolutional layer you could enter conv2 as the tf_activation variable.\n",
    "\n",
    "For an example of what feature map outputs look like, check out NVIDIA's results in their paper [End-to-End Deep Learning for Self-Driving Cars](https://devblogs.nvidia.com/parallelforall/deep-learning-self-driving-cars/) in the section Visualization of internal CNN State. NVIDIA was able to show that their network's inner weights had high activations to road boundary lines by comparing feature maps from an image with a clear path to one without. Try experimenting with a similar test to show that your trained network's weights are looking for interesting features, whether it's looking at differences in feature maps from images with or without a sign, or even what feature maps look like in a trained network vs a completely untrained one on the same sign image.\n",
    "\n",
    "<figure>\n",
    " <img src=\"visualize_cnn.png\" width=\"380\" alt=\"Combined Image\" />\n",
    " <figcaption>\n",
    " <p></p> \n",
    " <p style=\"text-align: center;\"> Your output should look something like this (above)</p> \n",
    " </figcaption>\n",
    "</figure>\n",
    " <p></p> \n"
   ]
  },
  {
   "cell_type": "code",
   "execution_count": null,
   "metadata": {},
   "outputs": [],
   "source": [
    "### Visualize your network's feature maps here.\n",
    "### Feel free to use as many code cells as needed.\n",
    "\n",
    "# image_input: the test image being fed into the network to produce the feature maps\n",
    "# tf_activation: should be a tf variable name used during your training procedure that represents the calculated state of a specific weight layer\n",
    "# activation_min/max: can be used to view the activation contrast in more detail, by default matplot sets min and max to the actual min and max values of the output\n",
    "# plt_num: used to plot out multiple different weight feature map sets on the same block, just extend the plt number for each new feature map entry\n",
    "\n",
    "def outputFeatureMap(image_input, tf_activation, activation_min=-1, activation_max=-1 ,plt_num=1):\n",
    "    # Here make sure to preprocess your image_input in a way your network expects\n",
    "    # with size, normalization, ect if needed\n",
    "    # image_input =\n",
    "    # Note: x should be the same name as your network's tensorflow data placeholder variable\n",
    "    # If you get an error tf_activation is not defined it may be having trouble accessing the variable from inside a function\n",
    "    activation = tf_activation.eval(session=sess,feed_dict={x : image_input})\n",
    "    featuremaps = activation.shape[3]\n",
    "    plt.figure(plt_num, figsize=(15,15))\n",
    "    for featuremap in range(featuremaps):\n",
    "        plt.subplot(6,8, featuremap+1) # sets the number of feature maps to show on each row and column\n",
    "        plt.title('FeatureMap ' + str(featuremap)) # displays the feature map number\n",
    "        if activation_min != -1 & activation_max != -1:\n",
    "            plt.imshow(activation[0,:,:, featuremap], interpolation=\"nearest\", vmin =activation_min, vmax=activation_max, cmap=\"gray\")\n",
    "        elif activation_max != -1:\n",
    "            plt.imshow(activation[0,:,:, featuremap], interpolation=\"nearest\", vmax=activation_max, cmap=\"gray\")\n",
    "        elif activation_min !=-1:\n",
    "            plt.imshow(activation[0,:,:, featuremap], interpolation=\"nearest\", vmin=activation_min, cmap=\"gray\")\n",
    "        else:\n",
    "            plt.imshow(activation[0,:,:, featuremap], interpolation=\"nearest\", cmap=\"gray\")"
   ]
  }
 ],
 "metadata": {
  "anaconda-cloud": {},
  "kernelspec": {
   "display_name": "Python 3",
   "language": "python",
   "name": "python3"
  },
  "language_info": {
   "codemirror_mode": {
    "name": "ipython",
    "version": 3
   },
   "file_extension": ".py",
   "mimetype": "text/x-python",
   "name": "python",
   "nbconvert_exporter": "python",
   "pygments_lexer": "ipython3",
   "version": "3.6.3"
  }
 },
 "nbformat": 4,
 "nbformat_minor": 1
}
